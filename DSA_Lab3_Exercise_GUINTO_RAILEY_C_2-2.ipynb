{
 "cells": [
  {
   "cell_type": "markdown",
   "metadata": {},
   "source": [
    "# Object Oriented Programming\n",
    "## Laboratory Exercise \n",
    "Deadline: 11:59pm Oct 13, 2024\n",
    "\n",
    "upload you this file together with your answer, the filename should be DSA_Lab3_exercise<name_and_section>.ipynb\n",
    "\n",
    "upload to https://docs.google.com/forms/d/e/1FAIpQLSdbYz8nlwvYws-ukmS2CcJE6YGgJxpD2y0tVvAxfyz-_pV4mg/viewform?usp=pp_url\n"
   ]
  },
  {
   "cell_type": "markdown",
   "metadata": {},
   "source": [
    "\n",
    "\n"
   ]
  },
  {
   "cell_type": "markdown",
   "metadata": {},
   "source": []
  },
  {
   "cell_type": "code",
   "execution_count": null,
   "metadata": {},
   "outputs": [],
   "source": []
  },
  {
   "cell_type": "markdown",
   "metadata": {},
   "source": [
    "## Lab exercise 1\n",
    "\n",
    "from a given list of integers, create a new list using comprehension that will compute the square of odd integer elements.\n",
    "\n",
    "sample calls\n",
    "\n",
    "[2,4,3] == [9]\n",
    "[0,0,1,1] == [1,1]\n"
   ]
  },
  {
   "cell_type": "code",
   "execution_count": 1,
   "metadata": {},
   "outputs": [
    {
     "name": "stdout",
     "output_type": "stream",
     "text": [
      "[1, 9, 25, 49, 81]\n"
     ]
    }
   ],
   "source": [
    "# Create class\n",
    "class odd_sqaure_calculator:\n",
    "    def __init__(self, elements) -> None:\n",
    "        self.elements = elements\n",
    "\n",
    "# Search for the odd elements in the list/s and square them\n",
    "    def square_odd_numbers(self):\n",
    "        return [x**2 for x in self.elements if x % 2 != 0]\n",
    "\n",
    "# Display the result\n",
    "list_1 = [0, 1, 2, 3, 4, 5, 6, 7, 8, 9, 10]\n",
    "\n",
    "print(odd_sqaure_calculator(list_1).square_odd_numbers())"
   ]
  },
  {
   "cell_type": "markdown",
   "metadata": {},
   "source": [
    "## Lab exercise 2\n",
    "\n",
    "Using comprehension,create a new list of tuples from two given lists:\n",
    "\n",
    "### sample calls\n",
    "\n",
    "list1[1,2,3]\n",
    "list2[\"mark\",\"alice\",\"john]\n",
    "\n",
    "result: listOfTuple[(1,\"mark\"),(2,\"alice\"),(3,\"john\")] "
   ]
  },
  {
   "cell_type": "code",
   "execution_count": 2,
   "metadata": {},
   "outputs": [
    {
     "name": "stdout",
     "output_type": "stream",
     "text": [
      "[(1, 'Railey'), (2, 'Cericos'), (3, 'Guinto')]\n"
     ]
    }
   ],
   "source": [
    "# Create class\n",
    "class list_of_tuple_generator:\n",
    "    def __init__(self, numbers, names):\n",
    "        self.numbers = numbers\n",
    "        self.names = names\n",
    "\n",
    "# Generate tuples\n",
    "    def generate_tuples_from_lists(self):\n",
    "        return[(numbers, names) for numbers, names in zip(self.numbers, self.names)]\n",
    "    \n",
    "# Lists\n",
    "numbers = [1, 2, 3]\n",
    "names = [\"Railey\", \"Cericos\", \"Guinto\"]\n",
    "\n",
    "# Generate and print the list of tuples\n",
    "generator = list_of_tuple_generator(numbers, names)\n",
    "\n",
    "print(generator.generate_tuples_from_lists())"
   ]
  },
  {
   "cell_type": "markdown",
   "metadata": {},
   "source": [
    "\n"
   ]
  },
  {
   "cell_type": "markdown",
   "metadata": {},
   "source": [
    "## Lab exercise 3\n",
    "### Provide a list comprehension that implementation for a function called vowelsToUpper with the following signature:\n",
    "\n",
    "method name : vowelsToUpper\n",
    "\n",
    "input argument : String \n",
    "\n",
    "return argument : String\n",
    "\n",
    "vowelsToUpper must return a version of its String argument with all its vowels changed to their uppercase forms. Nonvowel characters stay as is.\n",
    "\n",
    "### Sample Calls\n",
    "\n",
    "vowelsToUpper \"\" == \"\"\n",
    "\n",
    "vowelsToUpper \"Hello, world!\" == \"HEllO, wOrld!\"\n",
    "\n",
    "vowelsToUpper \"hello hi bye\" == \"hEllO hI byE\""
   ]
  },
  {
   "cell_type": "code",
   "execution_count": 3,
   "metadata": {},
   "outputs": [
    {
     "name": "stdout",
     "output_type": "stream",
     "text": [
      "\"Railey Guinto\"    == \"RAIlEy GUIntO\"\n",
      "\"Antipolo City\"    == \"AntIpOlO CIty\"\n"
     ]
    }
   ],
   "source": [
    "# Create class\n",
    "class vowel_converter:\n",
    "    def __init__(self):\n",
    "        pass\n",
    "# Convert vowels to uppercase\n",
    "    def vowelsToUpper(self, input_string):\n",
    "        return ''.join([char.upper() if char in 'aeiou' else char for char in input_string])\n",
    "    \n",
    "convert_vowels = vowel_converter()\n",
    "\n",
    "# Input strings\n",
    "phrase1 = \"Railey Guinto\"\n",
    "phrase2 = \"Antipolo City\"\n",
    "\n",
    "# Print results\n",
    "print(f'\"{phrase1}\" {\"==\" :>5} \"{convert_vowels.vowelsToUpper(phrase1)}\"')\n",
    "print(f'\"{phrase2}\" {\"==\" :>5} \"{convert_vowels.vowelsToUpper(phrase2)}\"')"
   ]
  }
 ],
 "metadata": {
  "kernelspec": {
   "display_name": "Python 3",
   "language": "python",
   "name": "python3"
  },
  "language_info": {
   "codemirror_mode": {
    "name": "ipython",
    "version": 3
   },
   "file_extension": ".py",
   "mimetype": "text/x-python",
   "name": "python",
   "nbconvert_exporter": "python",
   "pygments_lexer": "ipython3",
   "version": "3.11.9"
  }
 },
 "nbformat": 4,
 "nbformat_minor": 2
}
